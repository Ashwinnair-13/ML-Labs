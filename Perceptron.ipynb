{
  "nbformat": 4,
  "nbformat_minor": 0,
  "metadata": {
    "colab": {
      "provenance": []
    },
    "kernelspec": {
      "name": "python3",
      "display_name": "Python 3"
    },
    "language_info": {
      "name": "python"
    }
  },
  "cells": [
    {
      "cell_type": "code",
      "execution_count": 2,
      "metadata": {
        "id": "pBtiY2bu0NjC"
      },
      "outputs": [],
      "source": [
        "import numpy as np"
      ]
    },
    {
      "cell_type": "code",
      "source": [
        "# Training data for AND gate\n",
        "training_inputs = np.array([[0, 0], [0, 1], [1, 0], [1, 1]])\n",
        "labels = np.array([0, 0, 0, 1])\n"
      ],
      "metadata": {
        "id": "zHR4aqxh1yOh"
      },
      "execution_count": 3,
      "outputs": []
    },
    {
      "cell_type": "code",
      "source": [
        "class Perceptron:\n",
        "   def __init__(self, input_size, learning_rate=0.01, epochs=100):\n",
        "\n",
        "        self.weights = np.zeros(input_size + 1)\n",
        "\n",
        "        self.learning_rate = learning_rate\n",
        "\n",
        "        self.epochs = epochs\n",
        "\n",
        "\n",
        "   def activation_function(self ,x):\n",
        "        return 1 if x>=0 else 0\n",
        "\n",
        "   def predict(self, inputs):\n",
        "        summation = np.dot(inputs, self.weights[1:]) + self.weights[0]\n",
        "        return self.activation_function(summation)\n",
        "\n",
        "   def train(self, training_inputs, labels):\n",
        "\n",
        "        for _ in range(self.epochs):\n",
        "\n",
        "          for inputs, label in zip(training_inputs, labels):\n",
        "\n",
        "            prediction = self.predict(inputs)\n",
        "\n",
        "            self.weights[1:] += self.learning_rate * (label - prediction) * inputs\n",
        "\n",
        "            self.weights[0] += self.learning_rate * (label - prediction)\n",
        "\n",
        ""
      ],
      "metadata": {
        "id": "h6u7fpR_1xC6"
      },
      "execution_count": 13,
      "outputs": []
    },
    {
      "cell_type": "code",
      "source": [
        "if __name__ == '__main__':\n",
        "   perceptron = Perceptron(input_size=2)\n",
        "   perceptron.train(training_inputs , labels)\n",
        "\n",
        "   print(\"Testing AND gate Perceptron:\")\n",
        "\n",
        "   print(\"0 AND 0 = \", perceptron.predict(np.array([0, 0])))\n",
        "\n",
        "   print(\"0 AND 1 = \", perceptron.predict(np.array([0, 1])))\n",
        "\n",
        "   print(\"1 AND 0 = \", perceptron.predict(np.array([1, 0])))\n",
        "\n",
        "   print(\"1 AND 1 = \", perceptron.predict(np.array([1, 1])))"
      ],
      "metadata": {
        "colab": {
          "base_uri": "https://localhost:8080/"
        },
        "id": "UzFhctguAHHK",
        "outputId": "6070631f-ed66-48de-d052-8004a47003f1"
      },
      "execution_count": 14,
      "outputs": [
        {
          "output_type": "stream",
          "name": "stdout",
          "text": [
            "Testing AND gate Perceptron:\n",
            "0 AND 0 =  0\n",
            "0 AND 1 =  0\n",
            "1 AND 0 =  0\n",
            "1 AND 1 =  1\n"
          ]
        }
      ]
    }
  ]
}